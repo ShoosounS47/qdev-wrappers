{
 "cells": [
  {
   "cell_type": "code",
   "execution_count": 1,
   "metadata": {},
   "outputs": [],
   "source": [
    "import qcodes as qc\n",
    "import numpy as np\n",
    "import sys\n",
    "%matplotlib nbagg\n",
    "\n",
    "helper_fns_folder = '/Users/Natalie/Documents/PhD/Qdev/QcodesRelated/HelperScripts'# r'C:\\Users\\qcodes-natalie\\Qcodes-contrib' # TODO: enter path to transmon helper folder\n",
    "if helper_fns_folder not in sys.path:\n",
    "    sys.path.insert(0, helper_fns_folder)\n",
    "\n",
    "from qdev_transmon_helpers import *\n",
    "\n",
    "# global_settings.init()\n",
    "station = qc.Station()"
   ]
  },
  {
   "cell_type": "code",
   "execution_count": 2,
   "metadata": {},
   "outputs": [
    {
     "name": "stdout",
     "output_type": "stream",
     "text": [
      "Activating auto-logging. Current session state plus future input saved.\n",
      "Filename       : /Users/Natalie/Documents/PhD/Qdev/QcodesRelated/Qcodes_test_data/test_new_init/commands.log\n",
      "Mode           : append\n",
      "Output logging : True\n",
      "Raw input log  : False\n",
      "Timestamping   : True\n",
      "State          : active\n"
     ]
    }
   ],
   "source": [
    "qc.my_init('test_new_init', station)"
   ]
  },
  {
   "cell_type": "code",
   "execution_count": 3,
   "metadata": {},
   "outputs": [
    {
     "data": {
      "text/plain": [
       "'test_new_init'"
      ]
     },
     "execution_count": 3,
     "metadata": {},
     "output_type": "execute_result"
    }
   ],
   "source": [
    "get_sample_name()"
   ]
  },
  {
   "cell_type": "code",
   "execution_count": 4,
   "metadata": {},
   "outputs": [
    {
     "data": {
      "text/plain": [
       "'/Users/Natalie/Documents/PhD/Qdev/QcodesRelated/Qcodes_test_data/analysis/'"
      ]
     },
     "execution_count": 4,
     "metadata": {},
     "output_type": "execute_result"
    }
   ],
   "source": [
    "get_analysis_location()"
   ]
  },
  {
   "cell_type": "code",
   "execution_count": 4,
   "metadata": {},
   "outputs": [
    {
     "data": {
      "text/plain": [
       "{'analysis_subfolder': 'analysis',\n",
       " 'exp_folder': '/Users/Natalie/Documents/PhD/Qdev/QcodesRelated/Qcodes_test_data/test_new_init/',\n",
       " 'init': True,\n",
       " 'logfile': '/Users/Natalie/Documents/PhD/Qdev/QcodesRelated/Qcodes_test_data/test_new_init/commands.log',\n",
       " 'logging_enabled': True,\n",
       " 'mainfolder': '/Users/Natalie/Documents/PhD/Qdev/QcodesRelated/Qcodes_test_data',\n",
       " 'pdf_subfolder': 'pdf',\n",
       " 'provider': <qcodes.data.location.FormatLocation at 0x10f850780>,\n",
       " 'sample_name': 'test_new_init',\n",
       " 'station': <qcodes.station.Station at 0x10f850fd0>,\n",
       " 'temp_dict_subfolder': 'temp_dict',\n",
       " 'waveforms_subfolder': 'waveforms'}"
      ]
     },
     "execution_count": 4,
     "metadata": {},
     "output_type": "execute_result"
    }
   ],
   "source": [
    "qc.utils.init_attempt.CURRENT_EXPERIMENT"
   ]
  },
  {
   "cell_type": "code",
   "execution_count": 6,
   "metadata": {},
   "outputs": [
    {
     "ename": "TypeError",
     "evalue": "do1d() missing 5 required positional arguments: 'inst_set', 'start', 'stop', 'num_points', and 'delay'",
     "output_type": "error",
     "traceback": [
      "\u001b[0;31m---------------------------------------------------------------------------\u001b[0m",
      "\u001b[0;31mTypeError\u001b[0m                                 Traceback (most recent call last)",
      "\u001b[0;32m<ipython-input-6-3c1fcea111cf>\u001b[0m in \u001b[0;36m<module>\u001b[0;34m()\u001b[0m\n\u001b[0;32m----> 1\u001b[0;31m \u001b[0mqc\u001b[0m\u001b[0;34m.\u001b[0m\u001b[0mdo1d\u001b[0m\u001b[0;34m(\u001b[0m\u001b[0;34m)\u001b[0m\u001b[0;34m\u001b[0m\u001b[0m\n\u001b[0m",
      "\u001b[0;31mTypeError\u001b[0m: do1d() missing 5 required positional arguments: 'inst_set', 'start', 'stop', 'num_points', and 'delay'"
     ]
    }
   ],
   "source": [
    "qc.do1d()"
   ]
  },
  {
   "cell_type": "code",
   "execution_count": null,
   "metadata": {
    "collapsed": true
   },
   "outputs": [],
   "source": []
  }
 ],
 "metadata": {
  "kernelspec": {
   "display_name": "Python 3",
   "language": "python",
   "name": "python3"
  },
  "language_info": {
   "codemirror_mode": {
    "name": "ipython",
    "version": 3
   },
   "file_extension": ".py",
   "mimetype": "text/x-python",
   "name": "python",
   "nbconvert_exporter": "python",
   "pygments_lexer": "ipython3",
   "version": "3.5.3"
  }
 },
 "nbformat": 4,
 "nbformat_minor": 2
}
